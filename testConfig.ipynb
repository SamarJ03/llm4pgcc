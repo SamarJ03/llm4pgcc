{
 "cells": [
  {
   "cell_type": "code",
   "execution_count": 1,
   "id": "601dab1e",
   "metadata": {},
   "outputs": [
    {
     "data": {
      "text/plain": [
       "'/Users/samarjosyula/Desktop/Projects/llm4pgcc/config/environment.yml'"
      ]
     },
     "execution_count": 1,
     "metadata": {},
     "output_type": "execute_result"
    }
   ],
   "source": [
    "import os\n",
    "cwd = os.getcwd()\n",
    "env_path = os.path.join(cwd, '.pgccEnv')\n",
    "env_file = os.path.join(cwd, 'config', 'environment.yml')\n",
    "env_file"
   ]
  },
  {
   "cell_type": "code",
   "execution_count": null,
   "id": "7d429dfb",
   "metadata": {},
   "outputs": [],
   "source": [
    "! eval \"$(conda shell.bash hook)\"\n"
   ]
  },
  {
   "cell_type": "code",
   "execution_count": 3,
   "id": "811fa459",
   "metadata": {},
   "outputs": [
    {
     "name": "stdout",
     "output_type": "stream",
     "text": [
      "/Users/samarjosyula/miniconda3/lib/python3.13/argparse.py:1255: FutureWarning: `remote_definition` is deprecated and will be removed in 25.9. Use `conda env create --file=URL` instead.\n",
      "  subnamespace, arg_strings = subparser.parse_known_args(arg_strings, None)\n",
      "Channels:\n",
      " - conda-forge\n",
      " - defaults\n",
      "Platform: osx-arm64\n",
      "Collecting package metadata (repodata.json): | ^C\n"
     ]
    }
   ],
   "source": [
    "! conda env create -p \"{env_path}\" -f \"{env_file}\" python=3.10.13"
   ]
  },
  {
   "cell_type": "code",
   "execution_count": 6,
   "id": "b5d57e0d",
   "metadata": {},
   "outputs": [
    {
     "name": "stdout",
     "output_type": "stream",
     "text": [
      "\n",
      "CondaError: Run 'conda init' before 'conda activate'\n",
      "\n"
     ]
    }
   ],
   "source": [
    "! conda activate \"{env_path}\""
   ]
  }
 ],
 "metadata": {
  "kernelspec": {
   "display_name": "Python 3",
   "language": "python",
   "name": "python3"
  },
  "language_info": {
   "codemirror_mode": {
    "name": "ipython",
    "version": 3
   },
   "file_extension": ".py",
   "mimetype": "text/x-python",
   "name": "python",
   "nbconvert_exporter": "python",
   "pygments_lexer": "ipython3",
   "version": "3.13.1"
  }
 },
 "nbformat": 4,
 "nbformat_minor": 5
}
